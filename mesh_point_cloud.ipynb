{
 "cells": [
  {
   "cell_type": "markdown",
   "metadata": {},
   "source": [
    "import numpy as np\n",
    "from numpy import empty, zeros, ones, dot\n",
    "from numpy.linalg import norm\n",
    "import os\n",
    "import time\n",
    "import Video\n",
    "import matplotlib\n",
    "import matplotlib.pyplot as plt\n",
    "from tools import IO, Image, Geom, Quat, Pattern, VideoStream, Projections\n",
    "from tools.IO import read_ply,write_ply,write_obj\n",
    "import cv2\n",
    "import scipy.io as sio"
   ]
  },
  {
   "cell_type": "code",
   "execution_count": 15,
   "metadata": {},
   "outputs": [],
   "source": [
    "import numpy as np\n",
    "from numpy import empty, zeros, ones, dot \n",
    "from numpy.linalg import norm \n",
    "import os\n",
    "import time\n",
    "import Video\n",
    "import matplotlib\n",
    "import matplotlib.pyplot as plt\n",
    "from tools import IO, Image, Geom, Quat, Pattern, VideoStream, Projections\n",
    "from tools.IO import read_ply,write_ply,write_obj\n",
    "import cv2\n",
    "import scipy.io as sio"
   ]
  },
  {
   "cell_type": "code",
   "execution_count": 26,
   "metadata": {},
   "outputs": [
    {
     "name": "stdout",
     "output_type": "stream",
     "text": [
      "[ 0.87399588  0.83912954  0.50024684  0.48631445]\n",
      "Loading video from \"/home/shubham/datasets/hunter1/imu.mp4\"\n",
      "get_frames: Reading 82 frames\n",
      "  0          25         50         75         100\n",
      "  |----------|----------|----------|----------|\n",
      "  *********************************************\n",
      "\n"
     ]
    }
   ],
   "source": [
    "# seq = '/home/shubham/bb10/datasets/100/'\n",
    "seq = '/home/shubham/datasets/paul_180_cap'\n",
    "seq = '/home/shubham/datasets/steve_app_180'\n",
    "seq = '/home/shubham/datasets/106_iphone/'\n",
    "seq = '/home/shubham/datasets/hunter1'\n",
    "# seq = '/home/shubham/bb10/datasets/vader'\n",
    "# seq = '/home/shubham/bb10/datasets/face_allie'\n",
    "\n",
    "results_path = os.path.join(seq,'sparse','results.npz')\n",
    "if (os.path.isfile(results_path)):\n",
    "    npz_sparse = np.load(results_path)\n",
    "    im_size = tuple(npz_sparse['im_size'])\n",
    "    cam0 = npz_sparse['cam']\n",
    "    dist0 = npz_sparse['dist']\n",
    "    Rs, ts = npz_sparse['Rs'], npz_sparse['ts']\n",
    "    ws = npz_sparse['ws']\n",
    "    pws = npz_sparse['pws']\n",
    "    keyframe_inds = npz_sparse['frame_video_ids'].astype(np.int64)\n",
    "    hosts= npz_sparse['point_host']\n",
    "    ps = npz_sparse['ps']\n",
    "\n",
    "else:\n",
    "    print(\"results not found\",results_path)\n",
    "    exit()\n",
    "stream = Video.load_color_stream(seq, cam0, dist0, levels=1, sigma=0.0, baselevel=0, buffer_size=1)\n",
    "\n",
    "#\n",
    "# stream = Video.load_greyscale_stream(\n",
    "#     seq, start=0, sub=1, levels=3, sigma=max(0.5, 0.5), baselevel=0, look_for_cal=True)\n",
    "\n",
    "#\n",
    "cam, dist = stream.cam(0), stream.dist()\n",
    "fx, fy, cx, cy = cam\n",
    "K = np.array([[fx, 0, cx], [0, fy, cy], [0, 0, 1]])\n",
    "frames = stream.get_frames(keyframe_inds)\n",
    "nF  = len(frames)\n",
    "\n",
    "pba_vis = npz_sparse['visibility']\n",
    "nF = ts.shape[0]\n",
    "rs_array = np.zeros([3,1,nF])\n",
    "ts_array = np.zeros([3,1,nF])\n",
    "for i in range(nF):\n",
    "    rs_array[:,:,i] = ws[i].reshape(3,1)\n",
    "    ts_array[:,:,i] = ts[i].reshape(3,1)"
   ]
  },
  {
   "cell_type": "code",
   "execution_count": 27,
   "metadata": {},
   "outputs": [
    {
     "name": "stdout",
     "output_type": "stream",
     "text": [
      "Reading\n",
      "Extracting\n",
      "Reading\n",
      "Extracting\n"
     ]
    }
   ],
   "source": [
    "target_path = seq + '/cleaned_final3d_model.ply'\n",
    "target,target_normals = IO.read_ply(target_path,return_faces=False,return_normals=True)\n",
    "mesh_tformed,mesh_norms = IO.read_ply(seq + \"/mesh_with_normals.ply\")\n",
    "# return\n",
    "\n",
    "centre = np.mean(target,axis=0)\n",
    "centre = np.mean(mesh_tformed,axis=0)\n",
    "scale_factor = (np.linalg.norm(mesh_tformed[2087, :] - mesh_tformed[14471, :])) *2\n",
    "\n",
    "target = target - centre -np.array([0,0,0.1])\n",
    "target = target/scale_factor"
   ]
  },
  {
   "cell_type": "code",
   "execution_count": 28,
   "metadata": {},
   "outputs": [],
   "source": [
    "def cart_to_cyl(T):\n",
    "    C = np.zeros_like(T)\n",
    "    C[:,2] = T[:,1]\n",
    "    C[:,0] = np.sqrt(T[:,0]**2 + T[:,2]**2)\n",
    "    C[:,1] = np.arccos(T[:,0]/C[:,0])\n",
    "    C[np.where(T[:,2] < 0)[0],1] = 2*np.pi - C[np.where(T[:,2] < 0)[0],1]\n",
    "    return C\n",
    "\n",
    "def cyl_to_cart(T):\n",
    "    C = np.zeros_like(T)\n",
    "    C[:,1] = T[:,2]\n",
    "    C[:,0] = np.cos(T[:,1])*T[:,0]\n",
    "    C[:,2] = np.sqrt(T[:,0]**2 - C[:,0]**2)\n",
    "    C[np.where((T[:,1]< (2*np.pi)) & (T[:,1]> (np.pi)) )[0],2] *=-1\n",
    "#     neginds = np.where((np.pi/2 > T[:,1]))[0].tolist()\n",
    "#     neginds +=  np.where (T[:,1]>(np.pi*3/2))[0].tolist()\n",
    "#     C[np.where(T[:,1]> (np.pi))[0],2] *= -1\n",
    "                       \n",
    "    return C"
   ]
  },
  {
   "cell_type": "code",
   "execution_count": 29,
   "metadata": {},
   "outputs": [],
   "source": [
    "face_cyl = cart_to_cyl(target)"
   ]
  },
  {
   "cell_type": "code",
   "execution_count": 30,
   "metadata": {},
   "outputs": [],
   "source": [
    "minrho,mintheta,miny = np.min(face_cyl,axis=0)\n",
    "maxrho,maxtheta,maxy = np.max(face_cyl,axis=0)\n",
    "H=400\n",
    "W=720\n",
    "D = np.zeros([H,W])\n",
    "D_median = np.zeros([H,W])"
   ]
  },
  {
   "cell_type": "code",
   "execution_count": 31,
   "metadata": {},
   "outputs": [],
   "source": [
    "thetaspace = np.linspace(mintheta,maxtheta,W+1)\n",
    "yspace = np.linspace(miny,maxy,H+1)\n",
    "F = face_cyl.copy()\n",
    "F = F[F[:,2].argsort()]\n",
    "\n",
    "search_inds = np.searchsorted(F[:,2],yspace)\n",
    "\n",
    "for x in range(W):\n",
    "    for y in range(H):\n",
    "        rmin,rmax = search_inds[y],search_inds[y+1]\n",
    "        inds = np.where( (F[rmin:rmax+1,1] >= thetaspace[x]) & (F[rmin:rmax+1,1] <= thetaspace[x+1])&\n",
    "                       (F[rmin:rmax+1,2]>=yspace[y]) & (F[rmin:rmax+1,2]<=yspace[y+1]) )[0] \n",
    "                        \n",
    "        if(inds.size>0):\n",
    "            D[y,x] = np.mean(F[rmin:rmax+1,:][inds,0])\n",
    "            D_median[y,x] = np.median(F[rmin:rmax+1,:][inds,0])"
   ]
  },
  {
   "cell_type": "code",
   "execution_count": 32,
   "metadata": {},
   "outputs": [
    {
     "data": {
      "image/png": "[encoded data removed]",
      "text/plain": [
       "<matplotlib.figure.Figure at 0x7f3cee7f2978>"
      ]
     },
     "metadata": {
      "needs_background": "light"
     },
     "output_type": "display_data"
    }
   ],
   "source": [
    "plt.imshow(D_median)\n",
    "plt.show()"
   ]
  },
  {
   "cell_type": "code",
   "execution_count": 33,
   "metadata": {},
   "outputs": [],
   "source": [
    "def fill_holes(D,W,H):\n",
    "    for x in range(1,W-2):\n",
    "        for y in range(H):\n",
    "            if(D[y,x]!=0):\n",
    "                continue\n",
    "            else:\n",
    "                if(D[y,x-1]==0):\n",
    "                    continue\n",
    "                if(D[y,x+1]!=0):\n",
    "                    D[y,x] = (D[y,x-1] + D[y,x+1])/2\n",
    "                elif(D[y,x+2]!=0):\n",
    "                    diff = D[y,x+2]- D[y,x-1]\n",
    "                    D[y,x] = D[y,x-1] + 0.333*diff\n",
    "                    D[y,x+1] = D[y,x-1] + 0.667*diff\n",
    "    return D\n",
    "\n",
    "\n",
    "def mesh_dmap(D,thetaspace,yspace,W,H):\n",
    "    verts = []\n",
    "    idx = -1*np.ones([H,W],dtype=np.int32)\n",
    "    tls =[]\n",
    "    cnt =0\n",
    "    for x in range(W-1):\n",
    "        for y in range(H-1):\n",
    "            if(D[y,x]!=0 and D[y+1,x+1]!=0):\n",
    "                ystep = (yspace[y+1] - yspace[y])/2 ##will allow different resolutions in between, like say around nose\n",
    "                tstep  = (thetaspace[x+1] - thetaspace[x])/2\n",
    "                if(D[y,x+1]!=0):\n",
    "                    for (a,b) in [(0,0),(0,1),(1,1)]:\n",
    "                        if(idx[y+a,x+b]==-1):\n",
    "                            verts.append([D[y+a,x+b],thetaspace[x+b] + tstep, yspace[y+a]+ystep])\n",
    "                            cnt+=1\n",
    "                            idx[y+a,x+b] =cnt\n",
    "\n",
    "                    tls.append([idx[y,x],idx[y+1,x+1],idx[y,x+1]])\n",
    "\n",
    "                if(D[y+1,x]!=0):\n",
    "                    for (a,b) in [(0,0),(1,0),(1,1)]:\n",
    "                        if(idx[y+a,x+b]==-1):\n",
    "                            verts.append([D[y+a,x+b],thetaspace[x+b] + tstep, yspace[y+a]+ystep])\n",
    "                            cnt+=1\n",
    "                            idx[y+a,x+b] =cnt\n",
    "                    tls.append([idx[y,x],idx[y+1,x],idx[y+1,x+1]])\n",
    "    return verts,tls"
   ]
  },
  {
   "cell_type": "code",
   "execution_count": 34,
   "metadata": {},
   "outputs": [
    {
     "name": "stdout",
     "output_type": "stream",
     "text": [
      "147759\n",
      "write_ply done\n"
     ]
    }
   ],
   "source": [
    "D_median = fill_holes(D_median,720,400)\n",
    "verts,tls = mesh_dmap(D_median,thetaspace=thetaspace,yspace=yspace,W=W,H=H)\n",
    "print(len(verts))\n",
    "vs = cyl_to_cart(np.array(verts))\n",
    "write_ply(seq + '/cyl_to_vs_hunter1.ply',vs)\n",
    "write_obj(seq+'/cyl_to_vs_hunter1.obj',vs,tls)"
   ]
  },
  {
   "cell_type": "code",
   "execution_count": 25,
   "metadata": {},
   "outputs": [
    {
     "data": {
      "text/plain": [
       "'/home/shubham/datasets/106_iphone/'"
      ]
     },
     "execution_count": 25,
     "metadata": {},
     "output_type": "execute_result"
    }
   ],
   "source": [
    "seq"
   ]
  },
  {
   "cell_type": "code",
   "execution_count": null,
   "metadata": {},
   "outputs": [],
   "source": []
  }
 ],
 "metadata": {
  "kernelspec": {
   "display_name": "Python 3",
   "language": "python",
   "name": "python3"
  },
  "language_info": {
   "codemirror_mode": {
    "name": "ipython",
    "version": 3
   },
   "file_extension": ".py",
   "mimetype": "text/x-python",
   "name": "python",
   "nbconvert_exporter": "python",
   "pygments_lexer": "ipython3",
   "version": "3.5.2"
  }
 },
 "nbformat": 4,
 "nbformat_minor": 2
}
